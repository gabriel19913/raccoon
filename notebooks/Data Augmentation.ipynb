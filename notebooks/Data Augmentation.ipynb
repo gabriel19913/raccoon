{
 "cells": [
  {
   "cell_type": "markdown",
   "metadata": {},
   "source": [
    "# Data Augmentation"
   ]
  },
  {
   "cell_type": "code",
   "execution_count": 1,
   "metadata": {},
   "outputs": [],
   "source": [
    "import sys\n",
    "sys.path.append('..')"
   ]
  },
  {
   "cell_type": "markdown",
   "metadata": {},
   "source": [
    "## Load Data"
   ]
  },
  {
   "cell_type": "code",
   "execution_count": 2,
   "metadata": {},
   "outputs": [],
   "source": [
    "import wfdb\n",
    "\n",
    "def read_record(path, sampto=None):\n",
    "    record = wfdb.rdrecord(path, sampto=sampto)\n",
    "    annotation = wfdb.rdann(path, 'atr', sampto=sampto)\n",
    "    trigger = trigger_points(annotation)\n",
    "    return record, trigger\n",
    "\n",
    "def read_records(directory, names, sampto=None):\n",
    "    records, triggers = [], []\n",
    "    for name in names:\n",
    "        path = \"/\".join([directory, name])\n",
    "        record, trigger = read_record(path, sampto)\n",
    "        records.append(record)\n",
    "        triggers.append(trigger)\n",
    "    return records, triggers"
   ]
  },
  {
   "cell_type": "code",
   "execution_count": 3,
   "metadata": {},
   "outputs": [],
   "source": [
    "import numpy as np\n",
    "from raccoon.utils.annotationutils import trigger_points\n",
    "\n",
    "# Clean ECG Signals\n",
    "signal_dir = \"../data/mitdb\"\n",
    "names = np.array([\n",
    "    \"100\", \"101\", \"102\", \"103\", \"104\", \"105\", \"106\", \"107\", \"108\", \"109\"\n",
    "])\n",
    "sampto = 10000\n",
    "\n",
    "clean_records, triggers = read_records(signal_dir, names, sampto)\n",
    "clean_records, triggers = np.array(clean_records), np.array(triggers)\n",
    "\n",
    "# Noise template\n",
    "noise_path = '../data/noises/em'\n",
    "noise_template = wfdb.rdrecord(noise_path)"
   ]
  },
  {
   "cell_type": "markdown",
   "metadata": {},
   "source": [
    "## Add Noise"
   ]
  },
  {
   "cell_type": "code",
   "execution_count": 4,
   "metadata": {},
   "outputs": [],
   "source": [
    "from raccoon.utils.noiseutils import apply_noise_db\n",
    "\n",
    "noisy_records = [\n",
    "    apply_noise_db(clean_record, noise_template, 6)\n",
    "    for clean_record in clean_records]\n",
    "\n",
    "noisy_records = np.array(noisy_records)"
   ]
  },
  {
   "cell_type": "markdown",
   "metadata": {},
   "source": [
    "## Create Detectors"
   ]
  },
  {
   "cell_type": "code",
   "execution_count": 5,
   "metadata": {},
   "outputs": [
    {
     "name": "stderr",
     "output_type": "stream",
     "text": [
      "Using TensorFlow backend.\n"
     ]
    }
   ],
   "source": [
    "from raccoon.detectors import XiangDetector\n",
    "\n",
    "# Two identically configured detectors\n",
    "\n",
    "clean_detector = XiangDetector(\n",
    "    name='clean_detector', batch_size=32, window_size=40, detection_size=20,\n",
    "    aux_ratio=5, epochs=3)\n",
    "\n",
    "noisy_detector = XiangDetector(\n",
    "    name='noisy_detector', batch_size=32, window_size=40, detection_size=20,\n",
    "    aux_ratio=5, epochs=3)"
   ]
  },
  {
   "cell_type": "markdown",
   "metadata": {},
   "source": [
    "## Train and Test"
   ]
  },
  {
   "cell_type": "code",
   "execution_count": 6,
   "metadata": {},
   "outputs": [
    {
     "name": "stdout",
     "output_type": "stream",
     "text": [
      "Step 1/10\n",
      "Step 2/10\n",
      "Step 3/10\n",
      "Step 4/10\n",
      "Step 5/10\n",
      "Step 6/10\n",
      "Step 7/10\n",
      "Step 8/10\n",
      "Step 9/10\n",
      "Step 10/10\n"
     ]
    }
   ],
   "source": [
    "from contextlib import redirect_stdout\n",
    "from io import StringIO\n",
    "from sklearn.model_selection import LeaveOneOut, KFold\n",
    "from raccoon.utils.evaluationutils import triggers_metrics\n",
    "\n",
    "# cv = KFold(n_splits=2)\n",
    "cv = LeaveOneOut()\n",
    "\n",
    "clean_metrics, noisy_metrics = [], []\n",
    "\n",
    "for step_id, (train_indexes, test_indexes) in enumerate(cv.split(names), start=1):\n",
    "    print(\"Step {}/{}\".format(step_id, cv.get_n_splits(names)))\n",
    "    \n",
    "    clean_train_records = clean_records[train_indexes]\n",
    "    noisy_train_records = noisy_records[train_indexes]\n",
    "    train_triggers = triggers[train_indexes]\n",
    "    test_records = noisy_records[test_indexes]\n",
    "    test_triggers = triggers[test_indexes]\n",
    "    \n",
    "    clean_detector.reset()\n",
    "    noisy_detector.reset()\n",
    "    \n",
    "    with redirect_stdout(StringIO()):\n",
    "        clean_detector.train(clean_train_records, train_triggers)\n",
    "        noisy_detector.train(noisy_train_records, train_triggers)\n",
    "    \n",
    "    clean_triggers = clean_detector.detect(test_records)\n",
    "    noisy_triggers = noisy_detector.detect(test_records)\n",
    "    \n",
    "    clean_metrics.append(triggers_metrics(test_triggers, clean_triggers, 5))\n",
    "    noisy_metrics.append(triggers_metrics(test_triggers, noisy_triggers, 5))"
   ]
  },
  {
   "cell_type": "markdown",
   "metadata": {},
   "source": [
    "## Outlier Removal"
   ]
  },
  {
   "cell_type": "code",
   "execution_count": 7,
   "metadata": {},
   "outputs": [],
   "source": [
    "clean_metrics2 = [v for i,v in enumerate(clean_metrics) if i != 8]"
   ]
  },
  {
   "cell_type": "code",
   "execution_count": 8,
   "metadata": {},
   "outputs": [],
   "source": [
    "noisy_metrics2 = [v for i,v in enumerate(noisy_metrics) if i != 8]"
   ]
  },
  {
   "cell_type": "markdown",
   "metadata": {},
   "source": [
    "## Calculate Statistics"
   ]
  },
  {
   "cell_type": "code",
   "execution_count": 9,
   "metadata": {},
   "outputs": [],
   "source": [
    "from raccoon.utils.evaluationutils import sensitivity, ppv, f1\n",
    "\n",
    "labels = ['Se', 'PPV', 'F1']\n",
    "\n",
    "clean_stats = np.array([\n",
    "    [sensitivity(tp, fn) for tp, tn, fp, fn in clean_metrics2],\n",
    "    [ppv(tp, fp) for tp, tn, fp, fn in clean_metrics2],\n",
    "    [f1(tp, fp, fn) for tp, tn, fp, fn in clean_metrics2]])\n",
    "\n",
    "noisy_stats = np.array([\n",
    "    [sensitivity(tp, fn) for tp, tn, fp, fn in noisy_metrics2],\n",
    "    [ppv(tp, fp) for tp, tn, fp, fn in noisy_metrics2],\n",
    "    [f1(tp, fp, fn) for tp, tn, fp, fn in noisy_metrics2]])\n",
    "\n",
    "clean_means = np.nanmean(clean_stats, axis=1)\n",
    "noisy_means = np.nanmean(noisy_stats, axis=1)\n",
    "\n",
    "clean_stds = np.nanstd(clean_stats, axis=1)\n",
    "noisy_stds = np.nanstd(noisy_stats, axis=1)"
   ]
  },
  {
   "cell_type": "code",
   "execution_count": 10,
   "metadata": {},
   "outputs": [
    {
     "name": "stdout",
     "output_type": "stream",
     "text": [
      "Se: Ttest_indResult(statistic=0.8505632607971843, pvalue=0.4075610564202222)\n",
      "PPV: Ttest_indResult(statistic=-0.4018294907957742, pvalue=0.6931260357740083)\n",
      "F1: Ttest_indResult(statistic=0.30083776906558696, pvalue=0.7674123046249378)\n"
     ]
    }
   ],
   "source": [
    "from scipy.stats import ttest_ind\n",
    "\n",
    "for label, clean, noisy in zip(labels, clean_stats, noisy_stats):\n",
    "    print(\"{}: {}\".format(label, ttest_ind(clean, noisy)))"
   ]
  },
  {
   "cell_type": "markdown",
   "metadata": {},
   "source": [
    "## Plot"
   ]
  },
  {
   "cell_type": "code",
   "execution_count": 11,
   "metadata": {},
   "outputs": [
    {
     "data": {
      "image/png": "[encoded data removed]",
      "text/plain": [
       "<Figure size 720x360 with 1 Axes>"
      ]
     },
     "metadata": {},
     "output_type": "display_data"
    }
   ],
   "source": [
    "import matplotlib.pyplot as plt\n",
    "import numpy as np\n",
    "\n",
    "plt.rcParams.update({'font.size': 14})\n",
    "\n",
    "fig, ax = plt.subplots()\n",
    "fig.set_size_inches(10, 5)\n",
    "\n",
    "bar_width = 0.3\n",
    "index = np.arange(3) # Se, PPV, F1\n",
    "\n",
    "ax.bar(index, clean_means, bar_width, yerr=clean_stds, label=r'$D_c$')\n",
    "\n",
    "ax.bar(index+bar_width, noisy_means, bar_width, yerr=noisy_stds, label=r'$D_n$')\n",
    "\n",
    "ax.set_xticks(index + 0.5*bar_width)\n",
    "ax.set_xticklabels(('Se', 'PPV', 'F1'))\n",
    "ax.set_ylim(0, 1)\n",
    "\n",
    "ax.legend(bbox_to_anchor=(1.05, 1))\n",
    "\n",
    "plt.show()"
   ]
  },
  {
   "cell_type": "code",
   "execution_count": 13,
   "metadata": {},
   "outputs": [],
   "source": [
    "save=True\n",
    "\n",
    "if save:\n",
    "    fig.savefig(\n",
    "        '../../msc-thesis/thesis/images/data_augmentation.png',\n",
    "        bbox_inches = 'tight',\n",
    "        pad_inches = 0.1)"
   ]
  },
  {
   "cell_type": "code",
   "execution_count": null,
   "metadata": {},
   "outputs": [],
   "source": []
  }
 ],
 "metadata": {
  "kernelspec": {
   "display_name": "Python 3",
   "language": "python",
   "name": "python3"
  },
  "language_info": {
   "codemirror_mode": {
    "name": "ipython",
    "version": 3
   },
   "file_extension": ".py",
   "mimetype": "text/x-python",
   "name": "python",
   "nbconvert_exporter": "python",
   "pygments_lexer": "ipython3",
   "version": "3.6.7"
  },
  "toc": {
   "base_numbering": 1,
   "nav_menu": {},
   "number_sections": false,
   "sideBar": true,
   "skip_h1_title": false,
   "title_cell": "Table of Contents",
   "title_sidebar": "Contents",
   "toc_cell": false,
   "toc_position": {
    "height": "calc(100% - 180px)",
    "left": "10px",
    "top": "150px",
    "width": "285px"
   },
   "toc_section_display": true,
   "toc_window_display": true
  },
  "varInspector": {
   "cols": {
    "lenName": 16,
    "lenType": 16,
    "lenVar": 40
   },
   "kernels_config": {
    "python": {
     "delete_cmd_postfix": "",
     "delete_cmd_prefix": "del ",
     "library": "var_list.py",
     "varRefreshCmd": "print(var_dic_list())"
    },
    "r": {
     "delete_cmd_postfix": ") ",
     "delete_cmd_prefix": "rm(",
     "library": "var_list.r",
     "varRefreshCmd": "cat(var_dic_list()) "
    }
   },
   "oldHeight": 552.85,
   "position": {
    "height": "574.85px",
    "left": "1377px",
    "right": "14px",
    "top": "115px",
    "width": "529px"
   },
   "types_to_exclude": [
    "module",
    "function",
    "builtin_function_or_method",
    "instance",
    "_Feature"
   ],
   "varInspector_section_display": "block",
   "window_display": true
  }
 },
 "nbformat": 4,
 "nbformat_minor": 2
}
