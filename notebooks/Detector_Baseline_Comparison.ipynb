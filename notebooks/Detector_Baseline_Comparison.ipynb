{
 "cells": [
  {
   "cell_type": "markdown",
   "metadata": {},
   "source": [
    "# Detector Baseline Comparison"
   ]
  },
  {
   "cell_type": "code",
   "execution_count": 1,
   "metadata": {},
   "outputs": [
    {
     "name": "stderr",
     "output_type": "stream",
     "text": [
      "Using TensorFlow backend.\n"
     ]
    }
   ],
   "source": [
    "import sys\n",
    "import numpy as np\n",
    "import wfdb\n",
    "\n",
    "sys.path.append(\"..\")\n",
    "\n",
    "from raccoon.detectors import GarciaBerdonesDetector, SarlijaDetector, XiangDetector\n",
    "from raccoon.utils.annotationutils import trigger_points\n",
    "from raccoon.utils.evaluationutils import triggers_metrics, sensitivity, f1, ppv"
   ]
  },
  {
   "cell_type": "markdown",
   "metadata": {},
   "source": [
    "## Load Data"
   ]
  },
  {
   "cell_type": "code",
   "execution_count": 2,
   "metadata": {},
   "outputs": [],
   "source": [
    "def read_record(path, sampto=None):\n",
    "    record = wfdb.rdrecord(path, sampto=sampto)\n",
    "    annotation = wfdb.rdann(path, 'atr', sampto=sampto)\n",
    "    trigger = trigger_points(annotation)\n",
    "    return record, trigger\n",
    "\n",
    "def read_records(directory, names, sampto=None):\n",
    "    records, triggers = [], []\n",
    "    for name in names:\n",
    "        path = \"/\".join([directory, name])\n",
    "        record, trigger = read_record(path, sampto)\n",
    "        records.append(record)\n",
    "        triggers.append(trigger)\n",
    "    return records, triggers"
   ]
  },
  {
   "cell_type": "code",
   "execution_count": 3,
   "metadata": {},
   "outputs": [],
   "source": [
    "# Clean ECG Signals\n",
    "signal_dir = \"../data/mitdb\"\n",
    "names = np.array([\"100\", \"101\", \"102\", \"103\", \"104\", \"105\", \"106\", \"107\", \"108\", \"109\"])\n",
    "sampto = 10000\n",
    "\n",
    "records, triggers = read_records(signal_dir, names, sampto)\n",
    "records, triggers = np.array(records), np.array(triggers)"
   ]
  },
  {
   "cell_type": "markdown",
   "metadata": {},
   "source": [
    "## Define Experiment Setups"
   ]
  },
  {
   "cell_type": "code",
   "execution_count": 4,
   "metadata": {},
   "outputs": [],
   "source": [
    "from collections import defaultdict\n",
    "\n",
    "gd = defaultdict(int)\n",
    "gd['name'] = \"Garcia-Berdones et al. (1997)\"\n",
    "gd['detector'] = GarciaBerdonesDetector(\n",
    "    name='GD', batch_size=32, window_size=20, epochs=3)\n",
    "\n",
    "xd = defaultdict(int)\n",
    "xd['name'] = \"Xiang et al. (2018)\"\n",
    "xd['detector'] = XiangDetector(\n",
    "    name='XD', batch_size=32, window_size=40, detection_size=20, aux_ratio=5, epochs=3)\n",
    "\n",
    "experiments = [gd, xd]"
   ]
  },
  {
   "cell_type": "markdown",
   "metadata": {},
   "source": [
    "## Train and Test"
   ]
  },
  {
   "cell_type": "code",
   "execution_count": 5,
   "metadata": {},
   "outputs": [
    {
     "name": "stdout",
     "output_type": "stream",
     "text": [
      "Training with ['101' '102' '103' '104' '105' '106' '107' '108' '109'].\n",
      "Testing with ['100'].\n",
      "QRS complexes to be found: 35.\n",
      "Garcia-Berdones et al. (1997): (34, 0, 0, 1)\n",
      "Xiang et al. (2018): (34, 0, 0, 1)\n",
      "\n",
      "Training with ['100' '102' '103' '104' '105' '106' '107' '108' '109'].\n",
      "Testing with ['101'].\n",
      "QRS complexes to be found: 32.\n",
      "Garcia-Berdones et al. (1997): (32, 0, 0, 0)\n",
      "Xiang et al. (2018): (32, 0, 0, 0)\n",
      "\n",
      "Training with ['100' '101' '103' '104' '105' '106' '107' '108' '109'].\n",
      "Testing with ['102'].\n",
      "QRS complexes to be found: 34.\n",
      "Garcia-Berdones et al. (1997): (27, 0, 11, 7)\n",
      "Xiang et al. (2018): (33, 0, 1, 1)\n",
      "\n",
      "Training with ['100' '101' '102' '104' '105' '106' '107' '108' '109'].\n",
      "Testing with ['103'].\n",
      "QRS complexes to be found: 32.\n",
      "Garcia-Berdones et al. (1997): (31, 0, 1, 1)\n",
      "Xiang et al. (2018): (32, 0, 0, 0)\n",
      "\n",
      "Training with ['100' '101' '102' '103' '105' '106' '107' '108' '109'].\n",
      "Testing with ['104'].\n",
      "QRS complexes to be found: 35.\n",
      "Garcia-Berdones et al. (1997): (29, 0, 7, 6)\n",
      "Xiang et al. (2018): (29, 0, 7, 6)\n",
      "\n",
      "Training with ['100' '101' '102' '103' '104' '106' '107' '108' '109'].\n",
      "Testing with ['105'].\n",
      "QRS complexes to be found: 38.\n",
      "Garcia-Berdones et al. (1997): (36, 0, 2, 2)\n",
      "Xiang et al. (2018): (38, 0, 0, 0)\n",
      "\n",
      "Training with ['100' '101' '102' '103' '104' '105' '107' '108' '109'].\n",
      "Testing with ['106'].\n",
      "QRS complexes to be found: 31.\n",
      "Garcia-Berdones et al. (1997): (31, 0, 0, 0)\n",
      "Xiang et al. (2018): (31, 0, 0, 0)\n",
      "\n",
      "Training with ['100' '101' '102' '103' '104' '105' '106' '108' '109'].\n",
      "Testing with ['107'].\n",
      "QRS complexes to be found: 33.\n",
      "Garcia-Berdones et al. (1997): (13, 0, 61, 20)\n",
      "Xiang et al. (2018): (2, 0, 35, 31)\n",
      "\n",
      "Training with ['100' '101' '102' '103' '104' '105' '106' '107' '109'].\n",
      "Testing with ['108'].\n",
      "QRS complexes to be found: 28.\n",
      "Garcia-Berdones et al. (1997): (1, 0, 0, 27)\n",
      "Xiang et al. (2018): (1, 0, 0, 27)\n",
      "\n",
      "Training with ['100' '101' '102' '103' '104' '105' '106' '107' '108'].\n",
      "Testing with ['109'].\n",
      "QRS complexes to be found: 44.\n",
      "Garcia-Berdones et al. (1997): (18, 0, 24, 26)\n",
      "Xiang et al. (2018): (42, 0, 4, 2)\n",
      "\n"
     ]
    }
   ],
   "source": [
    "from contextlib import redirect_stdout\n",
    "from io import StringIO\n",
    "from sklearn.model_selection import LeaveOneOut\n",
    "\n",
    "loo = LeaveOneOut()\n",
    "\n",
    "for train_indexes, test_indexes in loo.split(names):\n",
    "    train_records = records[train_indexes]\n",
    "    train_triggers = triggers[train_indexes]\n",
    "    \n",
    "    test_records = records[test_indexes]\n",
    "    test_triggers = triggers[test_indexes]\n",
    "    \n",
    "    print(f\"Training with {names[train_indexes]}.\")\n",
    "    print(f\"Testing with {names[test_indexes]}.\")\n",
    "    print(f\"QRS complexes to be found: {len(test_triggers[0])}.\")\n",
    "\n",
    "    for experiment in experiments:\n",
    "        detector = experiment['detector']\n",
    "        detector.reset()\n",
    "        with redirect_stdout(StringIO()):\n",
    "            detector.train(train_records, train_triggers)\n",
    "        detected = detector.detect(test_records)\n",
    "        tp, tn, fp, fn = triggers_metrics(test_triggers, detected, 2)\n",
    "        experiment[\"tp\"] += tp\n",
    "        experiment[\"tn\"] += tn\n",
    "        experiment[\"fp\"] += fp\n",
    "        experiment[\"fn\"] += fn\n",
    "        print(f\"{experiment['name']}: {(tp, tn, fp, fn)}\")\n",
    "    \n",
    "    print()"
   ]
  },
  {
   "cell_type": "markdown",
   "metadata": {},
   "source": [
    "## Calculate Statistics"
   ]
  },
  {
   "cell_type": "code",
   "execution_count": 6,
   "metadata": {},
   "outputs": [],
   "source": [
    "for experiment in experiments:\n",
    "    tp, fp, fn = experiment[\"tp\"], experiment[\"fp\"], experiment[\"fn\"]\n",
    "    experiment[\"se\"] = sensitivity(tp, fn)\n",
    "    experiment[\"ppv\"] = ppv(tp, fp)\n",
    "    experiment[\"f1\"] = f1(tp, fp, fn)"
   ]
  },
  {
   "cell_type": "markdown",
   "metadata": {},
   "source": [
    "## Plot"
   ]
  },
  {
   "cell_type": "code",
   "execution_count": 7,
   "metadata": {},
   "outputs": [
    {
     "data": {
      "image/png": "[encoded data removed]",
      "text/plain": [
       "<Figure size 720x360 with 1 Axes>"
      ]
     },
     "metadata": {},
     "output_type": "display_data"
    }
   ],
   "source": [
    "import matplotlib.pyplot as plt\n",
    "import numpy as np\n",
    "\n",
    "plt.rcParams.update({'font.size': 14})\n",
    "\n",
    "fig, ax = plt.subplots()\n",
    "fig.set_size_inches(10, 5)\n",
    "\n",
    "bar_width = 0.6 / len(experiments)\n",
    "index = np.arange(3) # Se, PPV, F1\n",
    "\n",
    "for offset, e in enumerate(experiments):\n",
    "    ax.bar(\n",
    "        index+offset*bar_width,\n",
    "        [e['se'], e['ppv'], e['f1']],\n",
    "        bar_width,\n",
    "        label=e['name'])\n",
    "\n",
    "ax.set_xticks(index + 0.5*bar_width)\n",
    "ax.set_xticklabels(('Se', 'PPV', 'F1'))\n",
    "ax.set_ylim(0, 1)\n",
    "\n",
    "ax.legend(bbox_to_anchor=(1.05, 1))\n",
    "\n",
    "plt.show()"
   ]
  },
  {
   "cell_type": "code",
   "execution_count": 8,
   "metadata": {},
   "outputs": [],
   "source": [
    "fig.savefig(\n",
    "    '../../msc-thesis/thesis/images/detectors_baseline.png',\n",
    "    bbox_inches = 'tight',\n",
    "    pad_inches = 0)"
   ]
  },
  {
   "cell_type": "code",
   "execution_count": null,
   "metadata": {},
   "outputs": [],
   "source": []
  }
 ],
 "metadata": {
  "kernelspec": {
   "display_name": "Python 3",
   "language": "python",
   "name": "python3"
  },
  "language_info": {
   "codemirror_mode": {
    "name": "ipython",
    "version": 3
   },
   "file_extension": ".py",
   "mimetype": "text/x-python",
   "name": "python",
   "nbconvert_exporter": "python",
   "pygments_lexer": "ipython3",
   "version": "3.6.7"
  },
  "toc": {
   "base_numbering": 1,
   "nav_menu": {},
   "number_sections": false,
   "sideBar": true,
   "skip_h1_title": false,
   "title_cell": "Table of Contents",
   "title_sidebar": "Contents",
   "toc_cell": false,
   "toc_position": {},
   "toc_section_display": true,
   "toc_window_display": true
  },
  "varInspector": {
   "cols": {
    "lenName": 16,
    "lenType": 16,
    "lenVar": 40
   },
   "kernels_config": {
    "python": {
     "delete_cmd_postfix": "",
     "delete_cmd_prefix": "del ",
     "library": "var_list.py",
     "varRefreshCmd": "print(var_dic_list())"
    },
    "r": {
     "delete_cmd_postfix": ") ",
     "delete_cmd_prefix": "rm(",
     "library": "var_list.r",
     "varRefreshCmd": "cat(var_dic_list()) "
    }
   },
   "position": {
    "height": "469.85px",
    "left": "1550px",
    "right": "62px",
    "top": "120px",
    "width": "308px"
   },
   "types_to_exclude": [
    "module",
    "function",
    "builtin_function_or_method",
    "instance",
    "_Feature"
   ],
   "window_display": true
  }
 },
 "nbformat": 4,
 "nbformat_minor": 2
}
