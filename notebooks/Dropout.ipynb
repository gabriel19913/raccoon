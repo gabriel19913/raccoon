{
 "cells": [
  {
   "cell_type": "code",
   "execution_count": 1,
   "metadata": {},
   "outputs": [],
   "source": [
    "import sys\n",
    "sys.path.append('..')"
   ]
  },
  {
   "cell_type": "markdown",
   "metadata": {},
   "source": [
    "## Load Data"
   ]
  },
  {
   "cell_type": "code",
   "execution_count": 2,
   "metadata": {},
   "outputs": [],
   "source": [
    "import wfdb\n",
    "from raccoon.utils.annotationutils import trigger_points\n",
    "\n",
    "def read_record(path, sampto=None):\n",
    "    record = wfdb.rdrecord(path, sampto=sampto)\n",
    "    annotation = wfdb.rdann(path, 'atr', sampto=sampto)\n",
    "    trigger = trigger_points(annotation)\n",
    "    return record, trigger\n",
    "\n",
    "def read_records(directory, names, sampto=None):\n",
    "    records, triggers = [], []\n",
    "    for name in names:\n",
    "        path = \"/\".join([directory, name])\n",
    "        record, trigger = read_record(path, sampto)\n",
    "        records.append(record)\n",
    "        triggers.append(trigger)\n",
    "    return records, triggers"
   ]
  },
  {
   "cell_type": "code",
   "execution_count": 3,
   "metadata": {},
   "outputs": [],
   "source": [
    "import numpy as np\n",
    "\n",
    "# Clean ECG Signals\n",
    "signal_dir = \"../data/mitdb\"\n",
    "names = np.array([\n",
    "    \"100\", \"101\", \"102\", \"103\", \"104\", \"105\", \"106\", \"107\", \"108\", \"109\",\n",
    "    \"111\", \"112\", \"113\", \"114\", \"115\", \"116\", \"117\", \"118\", \"119\"\n",
    "])\n",
    "sampto = 5000\n",
    "\n",
    "clean_records, triggers = read_records(signal_dir, names, sampto)\n",
    "clean_records, triggers = np.array(clean_records), np.array(triggers)\n",
    "\n",
    "# Noise template\n",
    "noise_path = '../data/noises/em'\n",
    "noise_template = wfdb.rdrecord(noise_path)"
   ]
  },
  {
   "cell_type": "markdown",
   "metadata": {},
   "source": [
    "## Add Noise"
   ]
  },
  {
   "cell_type": "code",
   "execution_count": 4,
   "metadata": {},
   "outputs": [],
   "source": [
    "from raccoon.utils.noiseutils import apply_noise_db\n",
    "\n",
    "snr = 6\n",
    "\n",
    "noisy_records = np.array([\n",
    "    apply_noise_db(clean_record, noise_template, snr)\n",
    "    for clean_record in clean_records])"
   ]
  },
  {
   "cell_type": "markdown",
   "metadata": {},
   "source": [
    "## Create Detectors"
   ]
  },
  {
   "cell_type": "code",
   "execution_count": 5,
   "metadata": {},
   "outputs": [
    {
     "name": "stderr",
     "output_type": "stream",
     "text": [
      "Using TensorFlow backend.\n"
     ]
    }
   ],
   "source": [
    "from raccoon.detectors import XiangDetector, RXDetector\n",
    "\n",
    "zero_drop = XiangDetector(\n",
    "    name=\"ZeroDrop\",\n",
    "    window_size=100,\n",
    "    detection_size=50,\n",
    "    batch_size=32,\n",
    "    aux_ratio=5,\n",
    "    epochs=3)\n",
    "\n",
    "half_drop = RXDetector(\n",
    "    name=\"HalfDrop\",\n",
    "    window_size=100,\n",
    "    detection_size=50,\n",
    "    batch_size=32,\n",
    "    aux_ratio=5,\n",
    "    epochs=3,\n",
    "    input_dropout=0.5,\n",
    "    conv_dropout=0.5)"
   ]
  },
  {
   "cell_type": "markdown",
   "metadata": {},
   "source": [
    "## Train and Test"
   ]
  },
  {
   "cell_type": "code",
   "execution_count": 6,
   "metadata": {},
   "outputs": [
    {
     "name": "stdout",
     "output_type": "stream",
     "text": [
      "Step 1/19: [0]\n",
      "Step 2/19: [1]\n",
      "Step 3/19: [2]\n",
      "Step 4/19: [3]\n",
      "Step 5/19: [4]\n",
      "Step 6/19: [5]\n",
      "Step 7/19: [6]\n",
      "Step 8/19: [7]\n",
      "Step 9/19: [8]\n",
      "Step 10/19: [9]\n",
      "Step 11/19: [10]\n",
      "Step 12/19: [11]\n",
      "Step 13/19: [12]\n",
      "Step 14/19: [13]\n",
      "Step 15/19: [14]\n",
      "Step 16/19: [15]\n",
      "Step 17/19: [16]\n",
      "Step 18/19: [17]\n",
      "Step 19/19: [18]\n"
     ]
    }
   ],
   "source": [
    "from contextlib import redirect_stdout\n",
    "from io import StringIO\n",
    "from sklearn.model_selection import LeaveOneOut\n",
    "from raccoon.utils.evaluationutils import trigger_metrics \n",
    "\n",
    "zero_drop_metrics, half_drop_metrics = [], []\n",
    "cv = LeaveOneOut()\n",
    "\n",
    "for step_id, (train_indexes, test_indexes) in enumerate(cv.split(names), start=1):\n",
    "    print(\"Step {}/{}: {}\".format(step_id, cv.get_n_splits(names), test_indexes))\n",
    "    \n",
    "    # Training\n",
    "    train_records = clean_records[train_indexes]\n",
    "    train_triggers = triggers[train_indexes]\n",
    "    zero_drop.reset()\n",
    "    half_drop.reset()\n",
    "    with redirect_stdout(StringIO()):\n",
    "        zero_drop.train(train_records, train_triggers)\n",
    "        half_drop.train(train_records, train_triggers)\n",
    "        \n",
    "    # Testing\n",
    "    test_record = noisy_records[test_indexes][0]\n",
    "    test_trigger = triggers[test_indexes][0]\n",
    "    zero_drop_trigger = zero_drop.trigger(test_record)\n",
    "    half_drop_trigger = half_drop.trigger(test_record)\n",
    "    zero_drop_metrics.append(trigger_metrics(test_trigger, zero_drop_trigger, 5))\n",
    "    half_drop_metrics.append(trigger_metrics(test_trigger, half_drop_trigger, 5))"
   ]
  },
  {
   "cell_type": "code",
   "execution_count": 7,
   "metadata": {},
   "outputs": [],
   "source": [
    "from raccoon.utils.evaluationutils import sensitivity, ppv, f1\n",
    "\n",
    "zero_drop_ses = [sensitivity(tp, fn) for tp, tn, fp, fn in zero_drop_metrics]\n",
    "half_drop_ses = [sensitivity(tp, fn) for tp, tn, fp, fn in half_drop_metrics]\n",
    "\n",
    "zero_drop_ppvs = [ppv(tp, fp) for tp, tn, fp, fn in zero_drop_metrics]\n",
    "half_drop_ppvs = [ppv(tp, fp) for tp, tn, fp, fn in half_drop_metrics]\n",
    "\n",
    "zero_drop_f1s = [f1(tp, fp, fn) for tp, tn, fp, fn in zero_drop_metrics]\n",
    "half_drop_f1s = [f1(tp, fp, fn) for tp, tn, fp, fn in half_drop_metrics]"
   ]
  },
  {
   "cell_type": "code",
   "execution_count": 8,
   "metadata": {},
   "outputs": [],
   "source": [
    "import numpy as np\n",
    "\n",
    "metrics = ('Se', 'PPV', 'F1')\n",
    "\n",
    "zero_drop_means = [\n",
    "    np.nanmean(zero_drop_ses),\n",
    "    np.nanmean(zero_drop_ppvs),\n",
    "    np.nanmean(zero_drop_f1s)]\n",
    "\n",
    "half_drop_means = [\n",
    "    np.nanmean(half_drop_ses),\n",
    "    np.nanmean(half_drop_ppvs),\n",
    "    np.nanmean(half_drop_f1s)]\n",
    "\n",
    "zero_drop_stds = [\n",
    "    np.nanstd(zero_drop_ses),\n",
    "    np.nanstd(zero_drop_ppvs),\n",
    "    np.nanstd(zero_drop_f1s)]\n",
    "\n",
    "half_drop_stds = [\n",
    "    np.nanstd(half_drop_ses),\n",
    "    np.nanstd(half_drop_ppvs),\n",
    "    np.nanstd(half_drop_f1s)]"
   ]
  },
  {
   "cell_type": "code",
   "execution_count": 9,
   "metadata": {},
   "outputs": [
    {
     "name": "stdout",
     "output_type": "stream",
     "text": [
      "Se : Ttest_indResult(statistic=1.333975315915256, pvalue=0.19059006718167518)\n",
      "PPV: Ttest_indResult(statistic=0.5187141676887914, pvalue=0.6072244250392056)\n",
      "F1 : Ttest_indResult(statistic=0.8606117358249205, pvalue=0.39514756160078623)\n"
     ]
    }
   ],
   "source": [
    "from scipy.stats import ttest_ind\n",
    "\n",
    "print(\"Se : {}\".format(ttest_ind(zero_drop_ses, half_drop_ses, nan_policy='omit')))\n",
    "print(\"PPV: {}\".format(ttest_ind(zero_drop_ppvs, half_drop_ppvs, nan_policy='omit')))\n",
    "print(\"F1 : {}\".format(ttest_ind(zero_drop_f1s, half_drop_f1s, nan_policy='omit')))"
   ]
  },
  {
   "cell_type": "code",
   "execution_count": 10,
   "metadata": {},
   "outputs": [
    {
     "data": {
      "image/png": "[encoded data removed]",
      "text/plain": [
       "<Figure size 720x360 with 1 Axes>"
      ]
     },
     "metadata": {},
     "output_type": "display_data"
    }
   ],
   "source": [
    "import matplotlib.pyplot as plt\n",
    "import numpy as np\n",
    "\n",
    "plt.rcParams.update({'font.size': 14})\n",
    "\n",
    "fig, ax = plt.subplots()\n",
    "fig.set_size_inches(10, 5)\n",
    "\n",
    "bar_width = 0.3\n",
    "index = np.arange(3) # Se, PPV, F1\n",
    "\n",
    "ax.bar(index, zero_drop_means, bar_width, yerr=zero_drop_stds, label=\"Zero Drop\")\n",
    "ax.bar(index+bar_width, half_drop_means, bar_width, yerr=half_drop_stds, label=\"Half Drop\")\n",
    "\n",
    "ax.set_xticks(index + 0.5*bar_width)\n",
    "ax.set_xticklabels(metrics)\n",
    "ax.set_ylim(0, 1)\n",
    "\n",
    "ax.legend(bbox_to_anchor=(1.05, 1))\n",
    "\n",
    "plt.show()"
   ]
  },
  {
   "cell_type": "code",
   "execution_count": 11,
   "metadata": {},
   "outputs": [
    {
     "data": {
      "text/plain": [
       "[(17, 0, 0, 0),\n",
       " (16, 0, 1, 0),\n",
       " (16, 0, 1, 1),\n",
       " (15, 0, 1, 1),\n",
       " (15, 0, 1, 3),\n",
       " (19, 0, 0, 0),\n",
       " (13, 0, 9, 1),\n",
       " (7, 0, 28, 10),\n",
       " (4, 0, 0, 11),\n",
       " (18, 0, 11, 4),\n",
       " (7, 0, 9, 9),\n",
       " (18, 0, 13, 2),\n",
       " (13, 0, 2, 0),\n",
       " (11, 0, 1, 1),\n",
       " (14, 0, 1, 0),\n",
       " (18, 0, 10, 0),\n",
       " (0, 0, 39, 12),\n",
       " (16, 0, 12, 1),\n",
       " (14, 0, 25, 1)]"
      ]
     },
     "execution_count": 11,
     "metadata": {},
     "output_type": "execute_result"
    }
   ],
   "source": [
    "zero_drop_metrics"
   ]
  },
  {
   "cell_type": "code",
   "execution_count": 12,
   "metadata": {},
   "outputs": [
    {
     "data": {
      "text/plain": [
       "[(17, 0, 0, 0),\n",
       " (16, 0, 0, 0),\n",
       " (16, 0, 1, 1),\n",
       " (15, 0, 1, 1),\n",
       " (15, 0, 1, 3),\n",
       " (3, 0, 20, 16),\n",
       " (13, 0, 1, 1),\n",
       " (15, 0, 10, 2),\n",
       " (0, 0, 0, 15),\n",
       " (0, 0, 2, 22),\n",
       " (1, 0, 14, 15),\n",
       " (0, 0, 6, 20),\n",
       " (13, 0, 0, 0),\n",
       " (8, 0, 5, 4),\n",
       " (14, 0, 0, 0),\n",
       " (18, 0, 1, 0),\n",
       " (0, 0, 15, 12),\n",
       " (15, 0, 3, 2),\n",
       " (14, 0, 5, 1)]"
      ]
     },
     "execution_count": 12,
     "metadata": {},
     "output_type": "execute_result"
    }
   ],
   "source": [
    "half_drop_metrics"
   ]
  },
  {
   "cell_type": "code",
   "execution_count": null,
   "metadata": {},
   "outputs": [],
   "source": []
  }
 ],
 "metadata": {
  "kernelspec": {
   "display_name": "Python 3",
   "language": "python",
   "name": "python3"
  },
  "language_info": {
   "codemirror_mode": {
    "name": "ipython",
    "version": 3
   },
   "file_extension": ".py",
   "mimetype": "text/x-python",
   "name": "python",
   "nbconvert_exporter": "python",
   "pygments_lexer": "ipython3",
   "version": "3.6.7"
  },
  "toc": {
   "base_numbering": 1,
   "nav_menu": {},
   "number_sections": true,
   "sideBar": true,
   "skip_h1_title": false,
   "title_cell": "Table of Contents",
   "title_sidebar": "Contents",
   "toc_cell": false,
   "toc_position": {},
   "toc_section_display": true,
   "toc_window_display": false
  },
  "varInspector": {
   "cols": {
    "lenName": 16,
    "lenType": 16,
    "lenVar": 40
   },
   "kernels_config": {
    "python": {
     "delete_cmd_postfix": "",
     "delete_cmd_prefix": "del ",
     "library": "var_list.py",
     "varRefreshCmd": "print(var_dic_list())"
    },
    "r": {
     "delete_cmd_postfix": ") ",
     "delete_cmd_prefix": "rm(",
     "library": "var_list.r",
     "varRefreshCmd": "cat(var_dic_list()) "
    }
   },
   "types_to_exclude": [
    "module",
    "function",
    "builtin_function_or_method",
    "instance",
    "_Feature"
   ],
   "window_display": true
  }
 },
 "nbformat": 4,
 "nbformat_minor": 2
}
