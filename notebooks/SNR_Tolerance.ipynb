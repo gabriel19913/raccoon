{
 "cells": [
  {
   "cell_type": "markdown",
   "metadata": {},
   "source": [
    "# SNR Tolerance\n",
    "\n",
    "This Notebook serves the purpose of showing how the performance of QRS detection algorithms decreases if noise is added to the data. We use the WFDB XQRS algorithm for detecting QRS complexes and the MIT-BIH NSTDB electrode motion noise template."
   ]
  },
  {
   "cell_type": "markdown",
   "metadata": {},
   "source": [
    "## Preparation\n",
    "\n",
    "Run the following command in order to fetch the MIT-BIH Arrhythmia Database and the noise templates from the MIT-BIH Noise Stress Test Database:\n",
    "```shell\n",
    "./scripts/download_databases.py -d data -k mitdb noises\n",
    "```"
   ]
  },
  {
   "cell_type": "code",
   "execution_count": 1,
   "metadata": {},
   "outputs": [],
   "source": [
    "from itertools import product\n",
    "\n",
    "import sys\n",
    "\n",
    "from wfdb.processing import xqrs_detect\n",
    "import wfdb\n",
    "\n",
    "sys.path.append(\"../raccoon\")\n",
    "\n",
    "from utils.annotationutils import trigger_points\n",
    "from utils.evaluationutils import triggers_metrics, sensitivity, f1, ppv\n",
    "from utils.noiseutils import apply_noise_db"
   ]
  },
  {
   "cell_type": "code",
   "execution_count": 2,
   "metadata": {},
   "outputs": [],
   "source": [
    "def read_record(path):\n",
    "    record = wfdb.rdrecord(path)\n",
    "    annotation = wfdb.rdann(path, 'atr')\n",
    "    trigger = trigger_points(annotation)\n",
    "    return record, trigger\n",
    "\n",
    "def read_records(directory, names):\n",
    "    records, triggers = [], []\n",
    "    for name in names:\n",
    "        path = \"/\".join([directory, name])\n",
    "        record, trigger = read_record(path)\n",
    "        records.append(record)\n",
    "        triggers.append(trigger)\n",
    "    return records, triggers"
   ]
  },
  {
   "cell_type": "code",
   "execution_count": 3,
   "metadata": {},
   "outputs": [],
   "source": [
    "# Clean ECG Signals\n",
    "signal_dir = \"../data/mitdb\"\n",
    "signal_names = [\"100\", \"101\", \"102\", \"103\", \"104\"]\n",
    "\n",
    "# Noise Template (electrode motion, em)\n",
    "noise_path = \"../data/noises/em\"\n",
    "\n",
    "# Desired SNRs in dB\n",
    "snrs = range(-6, 7)\n",
    "\n",
    "records, triggers = read_records(signal_dir, signal_names)\n",
    "noise = wfdb.rdrecord(noise_path).p_signal[:,0]"
   ]
  },
  {
   "cell_type": "code",
   "execution_count": 4,
   "metadata": {},
   "outputs": [],
   "source": [
    "ses = []\n",
    "ppvs = []\n",
    "f1s = []\n",
    "\n",
    "for snr in snrs:\n",
    "    signals = [\n",
    "        apply_noise_db(record.p_signal[:,0], noise, snr)\n",
    "        for record in records]\n",
    "    fss = [record.fs for record in records]\n",
    "    detecteds = [\n",
    "        xqrs_detect(signal, fs, verbose=False)\n",
    "        for signal, fs in zip(signals, fss)]\n",
    "    \n",
    "    tp, tn, fp, fn = triggers_metrics(triggers, detecteds, 2)\n",
    "    \n",
    "    ses.append(sensitivity(tp, fn))\n",
    "    ppvs.append(ppv(tp, fp))\n",
    "    f1s.append(f1(tp, fp, fn))"
   ]
  },
  {
   "cell_type": "code",
   "execution_count": 5,
   "metadata": {},
   "outputs": [
    {
     "name": "stdout",
     "output_type": "stream",
     "text": [
      "range(-6, 7)\n",
      "[0.7782371734636346, 0.8092463822589738, 0.8378124412704379, 0.8642172523961661, 0.8886487502349183, 0.907160308212742, 0.9212554031197143, 0.9349746288291675, 0.9461567374553655, 0.954613794399549, 0.9629768840443526, 0.9681450855102425, 0.9722796466829543]\n",
      "[0.5718428502382104, 0.6162432915921288, 0.6645300737869867, 0.7151632970451011, 0.7676759477230295, 0.8075282308657465, 0.8393117027651742, 0.8705923527867705, 0.8966960548579571, 0.9190338339062782, 0.9405286343612335, 0.9538048509535271, 0.9646652992727951]\n",
      "[0.6592636815920399, 0.6996790835601414, 0.74117793757014, 0.7826567951663688, 0.8237446104263751, 0.8544497057131477, 0.8783765622900148, 0.9016356304653165, 0.9207626537423986, 0.9364859882005899, 0.9516203918655399, 0.9609214698750234, 0.9684575065518533]\n"
     ]
    }
   ],
   "source": [
    "print(snrs)\n",
    "print(ses)\n",
    "print(ppvs)\n",
    "print(f1s)"
   ]
  },
  {
   "cell_type": "code",
   "execution_count": 6,
   "metadata": {},
   "outputs": [
    {
     "data": {
      "image/png": "[encoded data removed]",
      "text/plain": [
       "<Figure size 1152x360 with 3 Axes>"
      ]
     },
     "metadata": {},
     "output_type": "display_data"
    }
   ],
   "source": [
    "import matplotlib.pyplot as plt\n",
    "plt.rcParams.update({'font.size': 16})\n",
    "\n",
    "fig, (ax1, ax2, ax3) = plt.subplots(1, 3, sharey=True)\n",
    "\n",
    "fig.set_size_inches(16, 5)\n",
    "\n",
    "ax1.plot(snrs, ses)\n",
    "ax1.grid()\n",
    "ax1.set_xlim(6, -6)\n",
    "ax1.set_xticks([6, 4, 2, 0, -2, -4, -6])\n",
    "ax1.set_xlabel(\"SNR / dB\")\n",
    "ax1.set_ylabel(\"Se\")\n",
    "\n",
    "ax2.plot(snrs, ppvs)\n",
    "ax2.grid()\n",
    "ax2.set_xlim(6, -6)\n",
    "ax2.set_xticks([6, 4, 2, 0, -2, -4, -6])\n",
    "ax2.set_xlabel(\"SNR / dB\")\n",
    "ax2.set_ylabel(\"PPV\")\n",
    "\n",
    "ax3.plot(snrs, f1s)\n",
    "ax3.grid()\n",
    "ax3.set_xlim(6, -6)\n",
    "ax3.set_xticks([6, 4, 2, 0, -2, -4, -6])\n",
    "ax3.set_xlabel(\"SNR / dB\")\n",
    "ax3.set_ylabel(\"F1\")\n",
    "\n",
    "plt.show()"
   ]
  },
  {
   "cell_type": "code",
   "execution_count": 7,
   "metadata": {},
   "outputs": [],
   "source": [
    "save = False\n",
    "\n",
    "if save:\n",
    "    fig.savefig(\n",
    "        '../../msc-thesis/thesis/images/snr_drop.pdf',\n",
    "        format='pdf',\n",
    "        bbox_inches = 'tight',\n",
    "        pad_inches = 0.1)"
   ]
  },
  {
   "cell_type": "code",
   "execution_count": null,
   "metadata": {},
   "outputs": [],
   "source": []
  }
 ],
 "metadata": {
  "kernelspec": {
   "display_name": "Python 3",
   "language": "python",
   "name": "python3"
  },
  "language_info": {
   "codemirror_mode": {
    "name": "ipython",
    "version": 3
   },
   "file_extension": ".py",
   "mimetype": "text/x-python",
   "name": "python",
   "nbconvert_exporter": "python",
   "pygments_lexer": "ipython3",
   "version": "3.6.7"
  },
  "toc": {
   "base_numbering": 1,
   "nav_menu": {
    "height": "120px",
    "width": "160px"
   },
   "number_sections": false,
   "sideBar": true,
   "skip_h1_title": false,
   "title_cell": "Table of Contents",
   "title_sidebar": "Contents",
   "toc_cell": false,
   "toc_position": {
    "height": "calc(100% - 180px)",
    "left": "10px",
    "top": "150px",
    "width": "278px"
   },
   "toc_section_display": true,
   "toc_window_display": true
  },
  "varInspector": {
   "cols": {
    "lenName": 16,
    "lenType": 16,
    "lenVar": 40
   },
   "kernels_config": {
    "python": {
     "delete_cmd_postfix": "",
     "delete_cmd_prefix": "del ",
     "library": "var_list.py",
     "varRefreshCmd": "print(var_dic_list())"
    },
    "r": {
     "delete_cmd_postfix": ") ",
     "delete_cmd_prefix": "rm(",
     "library": "var_list.r",
     "varRefreshCmd": "cat(var_dic_list()) "
    }
   },
   "position": {
    "height": "559.85px",
    "left": "1550px",
    "right": "20px",
    "top": "120px",
    "width": "350px"
   },
   "types_to_exclude": [
    "module",
    "function",
    "builtin_function_or_method",
    "instance",
    "_Feature"
   ],
   "window_display": true
  }
 },
 "nbformat": 4,
 "nbformat_minor": 2
}
